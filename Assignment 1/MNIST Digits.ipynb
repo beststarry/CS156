{
 "cells": [
  {
   "cell_type": "markdown",
   "metadata": {},
   "source": [
    "# MNIST digits"
   ]
  },
  {
   "cell_type": "code",
   "execution_count": 6,
   "metadata": {},
   "outputs": [
    {
     "data": {
      "text/plain": [
       "<matplotlib.figure.Figure at 0x1a1122c780>"
      ]
     },
     "metadata": {},
     "output_type": "display_data"
    },
    {
     "data": {
      "image/png": "[encoded data removed]",
      "text/plain": [
       "<matplotlib.figure.Figure at 0x1a1122c5f8>"
      ]
     },
     "metadata": {},
     "output_type": "display_data"
    },
    {
     "data": {
      "image/png": "[encoded data removed]",
      "text/plain": [
       "<matplotlib.figure.Figure at 0x1a11279358>"
      ]
     },
     "metadata": {},
     "output_type": "display_data"
    },
    {
     "data": {
      "text/plain": [
       "<matplotlib.figure.Figure at 0x1a116d6f60>"
      ]
     },
     "metadata": {},
     "output_type": "display_data"
    }
   ],
   "source": [
    "from sklearn.datasets import load_digits\n",
    "from sklearn.model_selection import train_test_split\n",
    "from sklearn.neighbors import KNeighborsClassifier\n",
    "from sklearn import *\n",
    "import matplotlib.pyplot as plt\n",
    "import numpy as np\n",
    "    \n",
    "digits = load_digits()\n",
    "\n",
    "plt.gray() \n",
    "plt.matshow(digits.images[7]), plt.matshow(digits.images[3])\n",
    "plt.figure(figsize=(20, 4))\n",
    "plt.show()"
   ]
  },
  {
   "cell_type": "code",
   "execution_count": 7,
   "metadata": {},
   "outputs": [
    {
     "name": "stdout",
     "output_type": "stream",
     "text": [
      "training data points: 1131\n",
      "validation data points: 126\n",
      "testing data points: 540\n"
     ]
    }
   ],
   "source": [
    "# reshape the data for the classifier\n",
    "# data_for_classifier = digits.images.reshape(len(digits.images), -1)\n",
    "\n",
    "# split the data: test-train-validate as 30/60/10\n",
    "# from sklearn.model_selection import train_test_split\n",
    "trainData, testData, trainLabels, testLabels = model_selection.train_test_split(np.array(digits.data), \n",
    "                                                                digits.target, test_size=0.3, random_state=42)\n",
    "trainData, valData, trainLabels, valLabels = model_selection.train_test_split(trainData, \n",
    "                                                              trainLabels, test_size=0.1, random_state=84)\n",
    "\n",
    "# show the sizes of each data split\n",
    "print(\"training data points: {}\".format(len(trainLabels)))\n",
    "print(\"validation data points: {}\".format(len(valLabels)))\n",
    "print(\"testing data points: {}\".format(len(testLabels)))"
   ]
  },
  {
   "cell_type": "code",
   "execution_count": 8,
   "metadata": {
    "scrolled": true
   },
   "outputs": [
    {
     "name": "stdout",
     "output_type": "stream",
     "text": [
      "k=1, accuracy=97.62%\n",
      "k=2, accuracy=97.62%\n",
      "k=3, accuracy=96.83%\n",
      "k=4, accuracy=97.62%\n",
      "k=5, accuracy=97.62%\n",
      "k=6, accuracy=96.03%\n",
      "k=7, accuracy=97.62%\n",
      "k=8, accuracy=97.62%\n",
      "k=9, accuracy=97.62%\n",
      "k=10, accuracy=97.62%\n",
      "k=11, accuracy=96.83%\n",
      "k=12, accuracy=96.03%\n",
      "k=13, accuracy=96.83%\n",
      "k=14, accuracy=96.83%\n",
      "k=15, accuracy=96.03%\n",
      "k=16, accuracy=96.03%\n",
      "k=17, accuracy=95.24%\n",
      "k=18, accuracy=95.24%\n",
      "k=19, accuracy=95.24%\n",
      "k=20, accuracy=94.44%\n",
      "k=21, accuracy=94.44%\n",
      "k=22, accuracy=94.44%\n",
      "k=23, accuracy=94.44%\n",
      "k=24, accuracy=94.44%\n",
      "k=25, accuracy=94.44%\n",
      "k=26, accuracy=93.65%\n",
      "k=27, accuracy=93.65%\n",
      "k=28, accuracy=93.65%\n",
      "k=29, accuracy=94.44%\n",
      "k=1 achieved highest accuracy of 97.62% on validation data\n"
     ]
    }
   ],
   "source": [
    "accuracies = []\n",
    "kVals = range(1, 30, 2)\n",
    "\n",
    "# loop over 30 possible values of k\n",
    "for k in range(1,30):\n",
    "    model = KNeighborsClassifier(n_neighbors=k)\n",
    "    model.fit(trainData, trainLabels)\n",
    "    \n",
    "    score = model.score(valData, valLabels)\n",
    "    print(\"k=%d, accuracy=%.2f%%\" % (k, score * 100))\n",
    "    accuracies.append(score)\n",
    "    \n",
    "i = np.argmax(accuracies)\n",
    "print(\"k=%d achieved highest accuracy of %.2f%% on validation data\" % (kVals[i],\n",
    "    accuracies[i] * 100))"
   ]
  },
  {
   "cell_type": "code",
   "execution_count": 9,
   "metadata": {},
   "outputs": [
    {
     "name": "stdout",
     "output_type": "stream",
     "text": [
      "EVALUATION ON TESTING DATA\n",
      "             precision    recall  f1-score   support\n",
      "\n",
      "          0       1.00      1.00      1.00        53\n",
      "          1       0.96      1.00      0.98        50\n",
      "          2       1.00      1.00      1.00        47\n",
      "          3       0.98      0.98      0.98        54\n",
      "          4       0.98      0.98      0.98        60\n",
      "          5       1.00      0.98      0.99        66\n",
      "          6       1.00      1.00      1.00        53\n",
      "          7       1.00      0.98      0.99        55\n",
      "          8       0.98      0.95      0.96        43\n",
      "          9       0.95      0.97      0.96        59\n",
      "\n",
      "avg / total       0.99      0.99      0.99       540\n",
      "\n"
     ]
    }
   ],
   "source": [
    "model = KNeighborsClassifier(n_neighbors=kVals[i])\n",
    "model.fit(trainData, trainLabels)\n",
    "predictions = model.predict(testData)\n",
    " \n",
    "# show a final classification report demonstrating the accuracy of the classifier\n",
    "# for each of the digits\n",
    "print(\"EVALUATION ON TESTING DATA\")\n",
    "from sklearn.metrics import classification_report\n",
    "print(classification_report(testLabels, predictions))"
   ]
  }
 ],
 "metadata": {
  "kernelspec": {
   "display_name": "Python 3",
   "language": "python",
   "name": "python3"
  },
  "language_info": {
   "codemirror_mode": {
    "name": "ipython",
    "version": 3
   },
   "file_extension": ".py",
   "mimetype": "text/x-python",
   "name": "python",
   "nbconvert_exporter": "python",
   "pygments_lexer": "ipython3",
   "version": "3.6.2"
  }
 },
 "nbformat": 4,
 "nbformat_minor": 2
}

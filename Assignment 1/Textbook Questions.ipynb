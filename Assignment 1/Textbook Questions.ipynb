{
 "cells": [
  {
   "cell_type": "markdown",
   "metadata": {},
   "source": [
    "### Question 1"
   ]
  },
  {
   "cell_type": "markdown",
   "metadata": {},
   "source": [
    "A redistribution lottery involves picking the correct four numbers from 1 to 9 (without replacement, so 3,4,4,1 for example is not possible). The order of the picked numbers is irrelevant. Every week a million people play this game, each paying £1 to enter, with the numbers 3,5,7,9 being the most popular (1 in every 100 people chooses these numbers). Given that the million pounds prize money is split equally between winners, and that any four (different) numbers come up at random, what is the expected amount of money each of the players choosing 3,5,7,9 will win each week? The least popular set of numbers is 1,2,3,4 with only 1 in 10,000 people choosing this. How much do they profit each week, on average? Do you think there is any ‘skill’ involved in playing this lottery?"
   ]
  },
  {
   "cell_type": "markdown",
   "metadata": {},
   "source": [
    "##### Answer"
   ]
  },
  {
   "cell_type": "markdown",
   "metadata": {},
   "source": [
    "The expected value $E(3,5,7,9)$ is calculated as $E(x) = \\frac{P(3,5,7,9)*£10^6}{0.01*10^6} = \\frac{100}{\\binom{9}{4}} = \\frac{100}{126} \\approx £0.79$ \n",
    "\n",
    "The expected value $E(1,2,3,4)$ is calculated as $E(x) = \\frac{P(1,2,3,4)*£10^6}{0.0001*10^6} = \\frac{10000}{126} \\approx £79.37$\n",
    "\n",
    "The people choosing 3,5,7,9 stand to gain at best £0.79 - £1 = - £0.21 per week.\n",
    "\n",
    "The people choosing 1,2,3,4 stand to gain at best £79.37 - £1 = £78.37 per week.\n",
    "\n",
    "The main idea is to realize that any combination is as likely to win as any other, and there are 9 choose 4 unique combinations. And since the correct combination is randomly uniformly distributed, the only possible element of 'skill' is to determine which number is least likely for other people to choose - doing so would decrease the number of people one would share the prize with, and increase winnings.\n"
   ]
  },
  {
   "cell_type": "markdown",
   "metadata": {},
   "source": [
    "### Question 2"
   ]
  },
  {
   "cell_type": "markdown",
   "metadata": {},
   "source": [
    "WowCo.com is a new startup prediction company. After years of failures, they eventually find a neural network with a trillion hidden units that achieves zero test error on every learning problem posted on the internet up to last week. Each learning problem included a train and test set. Proud of their achievement, they market their product aggressively with the claim that it ‘predicts perfectly on all known problems’. Discuss whether or not these claims would justify buying this product."
   ]
  },
  {
   "cell_type": "markdown",
   "metadata": {},
   "source": [
    "##### Answer"
   ]
  },
  {
   "cell_type": "markdown",
   "metadata": {},
   "source": [
    "Even if their model is perfectly fitted to the past, it is no guarantee that it will be be able to predict the future. Furthermore, this problem relies on counterfactuals that are extremely hard to take seriously - there is no model with a zero test error for every learning problem. I would be interested in testing the product out - on problems that I created myself."
   ]
  }
 ],
 "metadata": {
  "kernelspec": {
   "display_name": "Python 3",
   "language": "python",
   "name": "python3"
  },
  "language_info": {
   "codemirror_mode": {
    "name": "ipython",
    "version": 3
   },
   "file_extension": ".py",
   "mimetype": "text/x-python",
   "name": "python",
   "nbconvert_exporter": "python",
   "pygments_lexer": "ipython3",
   "version": "3.6.2"
  }
 },
 "nbformat": 4,
 "nbformat_minor": 2
}
